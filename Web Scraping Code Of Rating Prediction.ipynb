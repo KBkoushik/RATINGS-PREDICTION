{
 "cells": [
  {
   "cell_type": "code",
   "execution_count": 1,
   "id": "e0c6b47b",
   "metadata": {},
   "outputs": [],
   "source": [
    "# importing libraries/dependencies\n",
    "import selenium\n",
    "import pandas as pd\n",
    "import numpy as np\n",
    "import time\n",
    "import requests\n",
    "import re\n",
    "import warnings \n",
    "warnings.filterwarnings('ignore')\n",
    "\n",
    "from selenium import webdriver\n",
    "from selenium.webdriver.common.by import By\n",
    "from selenium.webdriver.common.keys import Keys\n",
    "from selenium.webdriver.support.ui import WebDriverWait\n",
    "from selenium.webdriver.common.action_chains import ActionChains\n",
    "from selenium.webdriver.support import expected_conditions as EC\n",
    "from selenium.common.exceptions import ElementNotVisibleException\n",
    "from selenium.common.exceptions import StaleElementReferenceException, NoSuchElementException, ElementClickInterceptedException\n"
   ]
  },
  {
   "cell_type": "code",
   "execution_count": 2,
   "id": "db16e40a",
   "metadata": {},
   "outputs": [],
   "source": [
    "# connecting to the webdriver\n",
    "driver = webdriver.Chrome(\"chromedriver.exe\")\n",
    "driver.maximize_window()"
   ]
  },
  {
   "cell_type": "markdown",
   "id": "83a5f172",
   "metadata": {},
   "source": [
    "01/08/2022"
   ]
  },
  {
   "cell_type": "code",
   "execution_count": 3,
   "id": "fef42bf7",
   "metadata": {},
   "outputs": [],
   "source": [
    "# creating empty lists to fetch required data\n",
    "Review = []\n",
    "Rating = []\n",
    "Long_Review =[]"
   ]
  },
  {
   "cell_type": "code",
   "execution_count": 4,
   "id": "701f0e18",
   "metadata": {},
   "outputs": [
    {
     "name": "stdout",
     "output_type": "stream",
     "text": [
      "COMPLETED\n"
     ]
    }
   ],
   "source": [
    "for i in range(1,501):\n",
    "    URL = \"https://www.amazon.in/TP-Link-TL-WR845N-300Mbps-Wireless-N-Router/product-reviews/B01HGCLUH6/ref=cm_cr_getr_d_paging_btm_\"+str(i)+\"?ie=UTF8&filterByStar=critical&pageNumber=\"+str(i)+\"&reviewerType=all_reviews&pageSize=20\"\n",
    "    driver.get(URL)\n",
    "    time.sleep(2)\n",
    "    Rat = driver.find_elements_by_xpath(\"//div[@data-hook='review']/div/div/div[2]/a[1]\")\n",
    "    Rev = driver.find_elements_by_xpath(\"//div[@data-hook='review']/div/div/div[2]/a[2]/span\")\n",
    "    LRev = driver.find_elements_by_xpath(\"//div[@data-hook='review']/div/div/div[4]/span/span\")\n",
    "    for i in range(0,len(Rat)):\n",
    "        Rate = Rat[i].get_attribute(\"title\");\n",
    "        Rating.append(Rate.replace('.0 out of 5 stars',\"\").strip())\n",
    "        try:\n",
    "            Review.append(Rev[i].text)\n",
    "        except IndexError as error:\n",
    "            Review.append(\"\")\n",
    "        try:\n",
    "            Long_Review.append(LRev[i].text)\n",
    "        except IndexError as error:\n",
    "            Long_Review.append(\"\")\n",
    "    time.sleep(2)\n",
    "print('COMPLETED')"
   ]
  },
  {
   "cell_type": "code",
   "execution_count": 5,
   "id": "08702ae9",
   "metadata": {},
   "outputs": [
    {
     "name": "stdout",
     "output_type": "stream",
     "text": [
      "COMPLETED\n"
     ]
    }
   ],
   "source": [
    "for i in range(1,541):\n",
    "    driver.get(\"https://www.flipkart.com/boat-rockerz-450-bluetooth-headset/product-reviews/itmb9c43413a7ca3?pid=ACCFEHZ8GSGWMMSD&lid=LSTACCFEHZ8GSGWMMSD3VEWSN&aid=overall&certifiedBuyer=false&sortOrder=NEGATIVE_FIRST&page=\"+str(i))\n",
    "    time.sleep(2)\n",
    "    Rat = driver.find_elements_by_xpath(\"//div[@class='_27M-vq']/div/div/div[1]/div\")\n",
    "    Rev = driver.find_elements_by_xpath(\"//div[@class='_27M-vq']/div/div/div[1]/p\")\n",
    "    LRev = driver.find_elements_by_xpath(\"//div[@class='_27M-vq']/div/div/div[2]\")\n",
    "    for i in range(0,len(Rat)):\n",
    "        Rating.append(Rat[i].text)\n",
    "        try:\n",
    "            Review.append(Rev[i].text)\n",
    "        except IndexError as error:\n",
    "            Review.append(\"\")\n",
    "        try:\n",
    "            Long_Review.append(LRev[i].text)\n",
    "        except IndexError as error:\n",
    "            Long_Review.append(\"\")\n",
    "    time.sleep(2)\n",
    "print('COMPLETED')"
   ]
  },
  {
   "cell_type": "code",
   "execution_count": 6,
   "id": "660533b4",
   "metadata": {},
   "outputs": [
    {
     "name": "stdout",
     "output_type": "stream",
     "text": [
      "COMPLETED\n"
     ]
    }
   ],
   "source": [
    "for i in range(1,171):\n",
    "    driver.get(\"https://www.flipkart.com/boat-rockerz-450-bluetooth-headset/product-reviews/itmb9c43413a7ca3?pid=ACCFEHZ8GSGWMMSD&lid=LSTACCFEHZ8GSGWMMSD3VEWSN&aid=overall&certifiedBuyer=false&sortOrder=POSITIVE_FIRST&page=\"+str(i))\n",
    "    time.sleep(2)\n",
    "    Rat = driver.find_elements_by_xpath(\"//div[@class='_27M-vq']/div/div/div[1]/div\")\n",
    "    Rev = driver.find_elements_by_xpath(\"//div[@class='_27M-vq']/div/div/div[1]/p\")\n",
    "    LRev = driver.find_elements_by_xpath(\"//div[@class='_27M-vq']/div/div/div[2]\")\n",
    "    for i in range(0,len(Rat)):\n",
    "        Rating.append(Rat[i].text)\n",
    "        try:\n",
    "            Review.append(Rev[i].text)\n",
    "        except IndexError as error:\n",
    "            Review.append(\"\")\n",
    "        try:\n",
    "            Long_Review.append(LRev[i].text)\n",
    "        except IndexError as error:\n",
    "            Long_Review.append(\"\")\n",
    "    time.sleep(2)\n",
    "print('COMPLETED')"
   ]
  },
  {
   "cell_type": "code",
   "execution_count": 7,
   "id": "a2ef8dbe",
   "metadata": {},
   "outputs": [
    {
     "name": "stdout",
     "output_type": "stream",
     "text": [
      "COMPLETED\n"
     ]
    }
   ],
   "source": [
    "for i in range(1,25):\n",
    "    URL = \"https://www.amazon.in/LG-Full-Monitor-Borderless-Design/product-reviews/B08CF2VYB6/ref=cm_cr_getr_d_paging_btm_\"+str(i)+\"?ie=UTF8&filterByStar=all_stars&pageNumber=\"+str(i)+\"&reviewerType=all_reviews&pageSize=20\"\n",
    "    driver.get(URL)\n",
    "    time.sleep(2)\n",
    "    Rat = driver.find_elements_by_xpath(\"//div[@data-hook='review']/div/div/div[2]/a[1]\")\n",
    "    Rev = driver.find_elements_by_xpath(\"//div[@data-hook='review']/div/div/div[2]/a[2]/span\")\n",
    "    LRev = driver.find_elements_by_xpath(\"//div[@data-hook='review']/div/div/div[4]/span/span\")\n",
    "    for i in range(0,len(Rat)):\n",
    "        Rate = Rat[i].get_attribute(\"title\");\n",
    "        Rating.append(Rate.replace('.0 out of 5 stars',\"\").strip())\n",
    "        try:\n",
    "            Review.append(Rev[i].text)\n",
    "        except IndexError as error:\n",
    "            Review.append(\"\")\n",
    "        try:\n",
    "            Long_Review.append(LRev[i].text)\n",
    "        except IndexError as error:\n",
    "            Long_Review.append(\"\")\n",
    "    time.sleep(2)\n",
    "print('COMPLETED')"
   ]
  },
  {
   "cell_type": "code",
   "execution_count": 8,
   "id": "a6122ba7",
   "metadata": {},
   "outputs": [
    {
     "name": "stdout",
     "output_type": "stream",
     "text": [
      "COMPLETED\n"
     ]
    }
   ],
   "source": [
    "for i in range(1,15):\n",
    "    URL = \"https://www.amazon.in/BenQ-31-5-80-01-Gaming-Monitor/product-reviews/B07BBRLTRH/ref=cm_cr_getr_d_paging_btm_next_\"+str(i)+\"?ie=UTF8&reviewerType=all_reviews&filterByStar=critical&pageNumber=\"+str(i)\n",
    "    driver.get(URL)\n",
    "    time.sleep(2)\n",
    "    Rat = driver.find_elements_by_xpath(\"//div[@data-hook='review']/div/div/div[2]/a[1]\")\n",
    "    Rev = driver.find_elements_by_xpath(\"//div[@data-hook='review']/div/div/div[2]/a[2]/span\")\n",
    "    LRev = driver.find_elements_by_xpath(\"//div[@data-hook='review']/div/div/div[4]/span/span\")\n",
    "    for i in range(0,len(Rat)):\n",
    "        Rate = Rat[i].get_attribute(\"title\");\n",
    "        Rating.append(Rate.replace('.0 out of 5 stars',\"\").strip())\n",
    "        try:\n",
    "            Review.append(Rev[i].text)\n",
    "        except IndexError as error:\n",
    "            Review.append(\"\")\n",
    "        try:\n",
    "            Long_Review.append(LRev[i].text)\n",
    "        except IndexError as error:\n",
    "            Long_Review.append(\"\")\n",
    "    time.sleep(2)\n",
    "print('COMPLETED')"
   ]
  },
  {
   "cell_type": "code",
   "execution_count": 9,
   "id": "6f53eb0f",
   "metadata": {},
   "outputs": [
    {
     "name": "stdout",
     "output_type": "stream",
     "text": [
      "COMPLETED\n"
     ]
    }
   ],
   "source": [
    "for i in range(1,158):\n",
    "    URL = \"https://www.amazon.in/Canon-1500D-Digital-Camera-S18-55/product-reviews/B07BS4TJ43/ref=cm_cr_arp_d_paging_btm_\"+str(i)+\"?ie=UTF8&pageNumber=\"+str(i)+\"&reviewerType=all_reviews&pageSize=20\"\n",
    "    driver.get(URL)\n",
    "    time.sleep(2)\n",
    "    Rat = driver.find_elements_by_xpath(\"//div[@data-hook='review']/div/div/div[2]/a[1]\")\n",
    "    Rev = driver.find_elements_by_xpath(\"//div[@data-hook='review']/div/div/div[2]/a[2]/span\")\n",
    "    LRev = driver.find_elements_by_xpath(\"//div[@data-hook='review']/div/div/div[4]/span/span\")\n",
    "    for i in range(0,len(Rat)):\n",
    "        Rate = Rat[i].get_attribute(\"title\");\n",
    "        Rating.append(Rate.replace('.0 out of 5 stars',\"\").strip())\n",
    "        try:\n",
    "            Review.append(Rev[i].text)\n",
    "        except IndexError as error:\n",
    "            Review.append(\"\")\n",
    "        try:\n",
    "            Long_Review.append(LRev[i].text)\n",
    "        except IndexError as error:\n",
    "            Long_Review.append(\"\")\n",
    "    time.sleep(2)\n",
    "print('COMPLETED')"
   ]
  },
  {
   "cell_type": "code",
   "execution_count": 10,
   "id": "e6015f86",
   "metadata": {},
   "outputs": [
    {
     "name": "stdout",
     "output_type": "stream",
     "text": [
      "COMPLETED\n"
     ]
    }
   ],
   "source": [
    "for i in range(1,300):\n",
    "    URL = \"https://www.amazon.in/HP-DeskJet-Inkjet-Colour-Printer/product-reviews/B08D9NDZ1Y/ref=cm_cr_arp_d_paging_btm_next_\"+str(i)+\"?ie=UTF8&reviewerType=all_reviews&pageSize=20&pageNumber=\"+str(i)\n",
    "    driver.get(URL)\n",
    "    time.sleep(2)\n",
    "    Rat = driver.find_elements_by_xpath(\"//div[@data-hook='review']/div/div/div[2]/a[1]\")\n",
    "    Rev = driver.find_elements_by_xpath(\"//div[@data-hook='review']/div/div/div[2]/a[2]/span\")\n",
    "    LRev = driver.find_elements_by_xpath(\"//div[@data-hook='review']/div/div/div[4]/span/span\")\n",
    "    for i in range(0,len(Rat)):\n",
    "        Rate = Rat[i].get_attribute(\"title\");\n",
    "        Rating.append(Rate.replace('.0 out of 5 stars',\"\").strip())\n",
    "        try:\n",
    "            Review.append(Rev[i].text)\n",
    "        except IndexError as error:\n",
    "            Review.append(\"\")\n",
    "        try:\n",
    "            Long_Review.append(LRev[i].text)\n",
    "        except IndexError as error:\n",
    "            Long_Review.append(\"\")\n",
    "    time.sleep(2)\n",
    "print('COMPLETED')"
   ]
  },
  {
   "cell_type": "code",
   "execution_count": 11,
   "id": "27f61c5c",
   "metadata": {},
   "outputs": [
    {
     "name": "stdout",
     "output_type": "stream",
     "text": [
      "COMPLETED\n"
     ]
    }
   ],
   "source": [
    "for i in range(1,200):\n",
    "    URL = \"https://www.amazon.in/Epson-EcoTank-L3110-Printer-Black/product-reviews/B07JRFW1PB/ref=cm_cr_arp_d_paging_btm_next_\"+str(i)+\"?ie=UTF8&reviewerType=all_reviews&pageSize=20&pageNumber=\"+str(i)\n",
    "    driver.get(URL)\n",
    "    time.sleep(2)\n",
    "    Rat = driver.find_elements_by_xpath(\"//div[@data-hook='review']/div/div/div[2]/a[1]\")\n",
    "    Rev = driver.find_elements_by_xpath(\"//div[@data-hook='review']/div/div/div[2]/a[2]/span\")\n",
    "    LRev = driver.find_elements_by_xpath(\"//div[@data-hook='review']/div/div/div[4]/span/span\")\n",
    "    for i in range(0,len(Rat)):\n",
    "        Rate = Rat[i].get_attribute(\"title\");\n",
    "        Rating.append(Rate.replace('.0 out of 5 stars',\"\").strip())\n",
    "        try:\n",
    "            Review.append(Rev[i].text)\n",
    "        except IndexError as error:\n",
    "            Review.append(\"\")\n",
    "        try:\n",
    "            Long_Review.append(LRev[i].text)\n",
    "        except IndexError as error:\n",
    "            Long_Review.append(\"\")\n",
    "    time.sleep(2)\n",
    "print('COMPLETED')"
   ]
  },
  {
   "cell_type": "code",
   "execution_count": 12,
   "id": "af4ec2df",
   "metadata": {},
   "outputs": [
    {
     "name": "stdout",
     "output_type": "stream",
     "text": [
      "COMPLETED\n"
     ]
    }
   ],
   "source": [
    "for i in range(1,170):\n",
    "    URL = \"https://www.amazon.in/Boat-BassHeads-900-Wired-Headphone/product-reviews/B074ZF7PVZ/ref=cm_cr_arp_d_paging_btm_next_\"+str(i)+\"?ie=UTF8&reviewerType=all_reviews&filterByStar=critical&pageNumber=\"+str(i)+\"&pageSize=20\"\n",
    "    driver.get(URL)\n",
    "    time.sleep(2)\n",
    "    Rat = driver.find_elements_by_xpath(\"//div[@data-hook='review']/div/div/div[2]/a[1]\")\n",
    "    Rev = driver.find_elements_by_xpath(\"//div[@data-hook='review']/div/div/div[2]/a[2]/span\")\n",
    "    LRev = driver.find_elements_by_xpath(\"//div[@data-hook='review']/div/div/div[4]/span/span\")\n",
    "    for i in range(0,len(Rat)):\n",
    "        Rate = Rat[i].get_attribute(\"title\");\n",
    "        Rating.append(Rate.replace('.0 out of 5 stars',\"\").strip())\n",
    "        try:\n",
    "            Review.append(Rev[i].text)\n",
    "        except IndexError as error:\n",
    "            Review.append(\"\")\n",
    "        try:\n",
    "            Long_Review.append(LRev[i].text)\n",
    "        except IndexError as error:\n",
    "            Long_Review.append(\"\")\n",
    "    time.sleep(2)\n",
    "print('COMPLETED')"
   ]
  },
  {
   "cell_type": "code",
   "execution_count": 13,
   "id": "4727d58a",
   "metadata": {},
   "outputs": [
    {
     "name": "stdout",
     "output_type": "stream",
     "text": [
      "32619 32619 32619\n"
     ]
    }
   ],
   "source": [
    "print(len(Rating),len(Review),len(Long_Review))"
   ]
  },
  {
   "cell_type": "code",
   "execution_count": null,
   "id": "45b49a76",
   "metadata": {},
   "outputs": [],
   "source": []
  },
  {
   "cell_type": "code",
   "execution_count": 14,
   "id": "fd3fc0ea",
   "metadata": {},
   "outputs": [
    {
     "data": {
      "text/html": [
       "<div>\n",
       "<style scoped>\n",
       "    .dataframe tbody tr th:only-of-type {\n",
       "        vertical-align: middle;\n",
       "    }\n",
       "\n",
       "    .dataframe tbody tr th {\n",
       "        vertical-align: top;\n",
       "    }\n",
       "\n",
       "    .dataframe thead th {\n",
       "        text-align: right;\n",
       "    }\n",
       "</style>\n",
       "<table border=\"1\" class=\"dataframe\">\n",
       "  <thead>\n",
       "    <tr style=\"text-align: right;\">\n",
       "      <th></th>\n",
       "      <th>Rating</th>\n",
       "      <th>Review</th>\n",
       "      <th>Long_Review</th>\n",
       "    </tr>\n",
       "  </thead>\n",
       "  <tbody>\n",
       "    <tr>\n",
       "      <th>0</th>\n",
       "      <td>1</td>\n",
       "      <td>Received a used router</td>\n",
       "      <td>Package was half sealed by Amazon and on the t...</td>\n",
       "    </tr>\n",
       "    <tr>\n",
       "      <th>1</th>\n",
       "      <td>1</td>\n",
       "      <td>DON'T Go for It... in case you don't want to r...</td>\n",
       "      <td>This is a followup of my earlier review\\n\\nCur...</td>\n",
       "    </tr>\n",
       "    <tr>\n",
       "      <th>2</th>\n",
       "      <td>1</td>\n",
       "      <td>Don't buy this router</td>\n",
       "      <td>It can't even cover 500squarefeet Area :/\\n\\nI...</td>\n",
       "    </tr>\n",
       "    <tr>\n",
       "      <th>3</th>\n",
       "      <td>1</td>\n",
       "      <td>Cloudtail providing fake reburbished products ...</td>\n",
       "      <td>The product has stopped working only after 6 m...</td>\n",
       "    </tr>\n",
       "    <tr>\n",
       "      <th>4</th>\n",
       "      <td>1</td>\n",
       "      <td>Faulty Product</td>\n",
       "      <td>Router was working fine until i started facing...</td>\n",
       "    </tr>\n",
       "  </tbody>\n",
       "</table>\n",
       "</div>"
      ],
      "text/plain": [
       "   Rating                                             Review  \\\n",
       "0       1                             Received a used router   \n",
       "1       1  DON'T Go for It... in case you don't want to r...   \n",
       "2       1                              Don't buy this router   \n",
       "3       1  Cloudtail providing fake reburbished products ...   \n",
       "4       1                                     Faulty Product   \n",
       "\n",
       "                                         Long_Review  \n",
       "0  Package was half sealed by Amazon and on the t...  \n",
       "1  This is a followup of my earlier review\\n\\nCur...  \n",
       "2  It can't even cover 500squarefeet Area :/\\n\\nI...  \n",
       "3  The product has stopped working only after 6 m...  \n",
       "4  Router was working fine until i started facing...  "
      ]
     },
     "execution_count": 14,
     "metadata": {},
     "output_type": "execute_result"
    }
   ],
   "source": [
    "Product=pd.DataFrame({})\n",
    "Product['Rating']=Rating\n",
    "Product['Review']=Review\n",
    "Product['Long_Review']=Long_Review\n",
    "Product.head()"
   ]
  },
  {
   "cell_type": "code",
   "execution_count": null,
   "id": "416a03bc",
   "metadata": {},
   "outputs": [],
   "source": [
    "df = pd.DataFrame(Product)\n",
    "df.to_excel('RATINGS_PREDICTION.xlsx', index=False)"
   ]
  },
  {
   "cell_type": "code",
   "execution_count": null,
   "id": "d5482796",
   "metadata": {},
   "outputs": [],
   "source": []
  },
  {
   "cell_type": "markdown",
   "id": "bc5af2bb",
   "metadata": {},
   "source": [
    "04/08/2022"
   ]
  },
  {
   "cell_type": "code",
   "execution_count": 15,
   "id": "12b2030e",
   "metadata": {},
   "outputs": [
    {
     "name": "stdout",
     "output_type": "stream",
     "text": [
      "COMPLETED\n"
     ]
    }
   ],
   "source": [
    "Review1 = []\n",
    "Rating1 = []\n",
    "Long_Review1 = []\n",
    "for i in range(1,23):\n",
    "    URL = \"https://www.amazon.in/Redmi-Sky-Blue-64GB-Storage/product-reviews/B08697N43N/ref=cm_cr_getr_d_paging_btm_\"+str(i)+\"?ie=UTF8&filterByStar=two_star&pageNumber=\"+str(i)+\"&reviewerType=all_reviews&pageSize=20\"\n",
    "    driver.get(URL)\n",
    "    time.sleep(2)\n",
    "    Rat = driver.find_elements_by_xpath(\"//div[@data-hook='review']/div/div/div[2]/a[1]\")\n",
    "    Rev = driver.find_elements_by_xpath(\"//div[@data-hook='review']/div/div/div[2]/a[2]/span\")\n",
    "    LRev = driver.find_elements_by_xpath(\"//div[@data-hook='review']/div/div/div[4]/span/span\")\n",
    "    for i in range(0,len(Rat)):\n",
    "        Rate = Rat[i].get_attribute(\"title\");\n",
    "        Rating1.append(Rate.replace('.0 out of 5 stars',\"\").strip())\n",
    "        try:\n",
    "            Review1.append(Rev[i].text)\n",
    "        except IndexError as error:\n",
    "            Review1.append(\"\")\n",
    "        try:\n",
    "            Long_Review1.append(LRev[i].text)\n",
    "        except IndexError as error:\n",
    "            Long_Review1.append(\"\")\n",
    "    time.sleep(2)\n",
    "print('COMPLETED')"
   ]
  },
  {
   "cell_type": "code",
   "execution_count": 16,
   "id": "c24b31ee",
   "metadata": {},
   "outputs": [
    {
     "name": "stdout",
     "output_type": "stream",
     "text": [
      "COMPLETED\n"
     ]
    }
   ],
   "source": [
    "for i in range(1,18):\n",
    "    URL = \"https://www.amazon.in/Redmi-9A-2GB-32GB-Storage/product-reviews/B08696XB4B/ref=cm_cr_getr_d_paging_btm_next_\"+str(i)+\"?ie=UTF8&reviewerType=all_reviews&filterByStar=two_star&pageNumber=\"+str(i)+\"&pageSize=20\"\n",
    "    driver.get(URL)\n",
    "    time.sleep(2)\n",
    "    Rat = driver.find_elements_by_xpath(\"//div[@data-hook='review']/div/div/div[2]/a[1]\")\n",
    "    Rev = driver.find_elements_by_xpath(\"//div[@data-hook='review']/div/div/div[2]/a[2]/span\")\n",
    "    LRev = driver.find_elements_by_xpath(\"//div[@data-hook='review']/div/div/div[4]/span/span\")\n",
    "    for i in range(0,len(Rat)):\n",
    "        Rate = Rat[i].get_attribute(\"title\");\n",
    "        Rating1.append(Rate.replace('.0 out of 5 stars',\"\").strip())\n",
    "        try:\n",
    "            Review1.append(Rev[i].text)\n",
    "        except IndexError as error:\n",
    "            Review1.append(\"\")\n",
    "        try:\n",
    "            Long_Review1.append(LRev[i].text)\n",
    "        except IndexError as error:\n",
    "            Long_Review1.append(\"\")\n",
    "    time.sleep(2)\n",
    "print('COMPLETED')"
   ]
  },
  {
   "cell_type": "code",
   "execution_count": 17,
   "id": "b20080c4",
   "metadata": {},
   "outputs": [
    {
     "name": "stdout",
     "output_type": "stream",
     "text": [
      "COMPLETED\n"
     ]
    }
   ],
   "source": [
    "for i in range(1,101):\n",
    "    URL = \"https://www.amazon.in/Samsung-Galaxy-Ocean-128GB-Storage/product-reviews/B07HG8S7KP/ref=cm_cr_getr_d_paging_btm_next_\"+str(i)+\"?ie=UTF8&reviewerType=all_reviews&filterByStar=two_star&pageNumber=\"+str(i)+\"&pageSize=20\"\n",
    "    driver.get(URL)\n",
    "    time.sleep(2)\n",
    "    Rat = driver.find_elements_by_xpath(\"//div[@data-hook='review']/div/div/div[2]/a[1]\")\n",
    "    Rev = driver.find_elements_by_xpath(\"//div[@data-hook='review']/div/div/div[2]/a[2]/span\")\n",
    "    LRev = driver.find_elements_by_xpath(\"//div[@data-hook='review']/div/div/div[4]/span/span\")\n",
    "    for i in range(0,len(Rat)):\n",
    "        Rate = Rat[i].get_attribute(\"title\");\n",
    "        Rating1.append(Rate.replace('.0 out of 5 stars',\"\").strip())\n",
    "        try:\n",
    "            Review1.append(Rev[i].text)\n",
    "        except IndexError as error:\n",
    "            Review1.append(\"\")\n",
    "        try:\n",
    "            Long_Review1.append(LRev[i].text)\n",
    "        except IndexError as error:\n",
    "            Long_Review1.append(\"\")\n",
    "    time.sleep(2)\n",
    "print('COMPLETED')"
   ]
  },
  {
   "cell_type": "code",
   "execution_count": 18,
   "id": "f19a6ed0",
   "metadata": {},
   "outputs": [
    {
     "name": "stdout",
     "output_type": "stream",
     "text": [
      "COMPLETED\n"
     ]
    }
   ],
   "source": [
    "for i in range(1,101):\n",
    "    URL = \"https://www.amazon.in/Samsung-Galaxy-Ocean-128GB-Storage/product-reviews/B07HG8S7KP/ref=cm_cr_getr_d_paging_btm_next_\"+str(i)+\"?ie=UTF8&reviewerType=all_reviews&filterByStar=four_star&pageNumber=\"+str(i)+\"&pageSize=20\"\n",
    "    driver.get(URL)\n",
    "    time.sleep(2)\n",
    "    Rat = driver.find_elements_by_xpath(\"//div[@data-hook='review']/div/div/div[2]/a[1]\")\n",
    "    Rev = driver.find_elements_by_xpath(\"//div[@data-hook='review']/div/div/div[2]/a[2]/span\")\n",
    "    LRev = driver.find_elements_by_xpath(\"//div[@data-hook='review']/div/div/div[4]/span/span\")\n",
    "    for i in range(0,len(Rat)):\n",
    "        Rate = Rat[i].get_attribute(\"title\");\n",
    "        Rating1.append(Rate.replace('.0 out of 5 stars',\"\").strip())\n",
    "        try:\n",
    "            Review1.append(Rev[i].text)\n",
    "        except IndexError as error:\n",
    "            Review1.append(\"\")\n",
    "        try:\n",
    "            Long_Review1.append(LRev[i].text)\n",
    "        except IndexError as error:\n",
    "            Long_Review1.append(\"\")\n",
    "    time.sleep(2)\n",
    "print('COMPLETED')"
   ]
  },
  {
   "cell_type": "code",
   "execution_count": 19,
   "id": "fa607491",
   "metadata": {},
   "outputs": [
    {
     "name": "stdout",
     "output_type": "stream",
     "text": [
      "4780 4780 4780\n"
     ]
    }
   ],
   "source": [
    "print(len(Rating1),len(Review1),len(Long_Review1))"
   ]
  },
  {
   "cell_type": "code",
   "execution_count": 20,
   "id": "9172c3b6",
   "metadata": {},
   "outputs": [],
   "source": [
    "Phone=pd.DataFrame({})\n",
    "Phone['Rating']=Rating1\n",
    "Phone['Review']=Review1\n",
    "Phone['Long_Review']=Long_Review1"
   ]
  },
  {
   "cell_type": "code",
   "execution_count": 21,
   "id": "c6ab412a",
   "metadata": {},
   "outputs": [],
   "source": [
    "df1 = pd.DataFrame(Phone)\n",
    "df1.to_csv('Phone.CSV', index=False)"
   ]
  },
  {
   "cell_type": "code",
   "execution_count": 22,
   "id": "1e5833b0",
   "metadata": {},
   "outputs": [],
   "source": [
    "RP_scrap1=pd.read_csv(\"RATINGS_PREDICTION.csv\")\n",
    "RP_scrap2=pd.read_csv(\"Phone.csv\")"
   ]
  },
  {
   "cell_type": "code",
   "execution_count": 23,
   "id": "7cfd12ff",
   "metadata": {},
   "outputs": [
    {
     "data": {
      "text/html": [
       "<div>\n",
       "<style scoped>\n",
       "    .dataframe tbody tr th:only-of-type {\n",
       "        vertical-align: middle;\n",
       "    }\n",
       "\n",
       "    .dataframe tbody tr th {\n",
       "        vertical-align: top;\n",
       "    }\n",
       "\n",
       "    .dataframe thead th {\n",
       "        text-align: right;\n",
       "    }\n",
       "</style>\n",
       "<table border=\"1\" class=\"dataframe\">\n",
       "  <thead>\n",
       "    <tr style=\"text-align: right;\">\n",
       "      <th></th>\n",
       "      <th>Rating</th>\n",
       "      <th>Review</th>\n",
       "      <th>Long_Review</th>\n",
       "    </tr>\n",
       "  </thead>\n",
       "  <tbody>\n",
       "    <tr>\n",
       "      <th>0</th>\n",
       "      <td>1</td>\n",
       "      <td>Received a used router</td>\n",
       "      <td>Package was half sealed by Amazon and on the t...</td>\n",
       "    </tr>\n",
       "    <tr>\n",
       "      <th>1</th>\n",
       "      <td>1</td>\n",
       "      <td>DON'T Go for It... in case you don't want to r...</td>\n",
       "      <td>This is a followup of my earlier review\\n\\nCur...</td>\n",
       "    </tr>\n",
       "    <tr>\n",
       "      <th>2</th>\n",
       "      <td>1</td>\n",
       "      <td>Don't buy this router</td>\n",
       "      <td>It can't even cover 500squarefeet Area :/\\n\\nI...</td>\n",
       "    </tr>\n",
       "    <tr>\n",
       "      <th>3</th>\n",
       "      <td>1</td>\n",
       "      <td>Cloudtail providing fake reburbished products ...</td>\n",
       "      <td>The product has stopped working only after 6 m...</td>\n",
       "    </tr>\n",
       "    <tr>\n",
       "      <th>4</th>\n",
       "      <td>1</td>\n",
       "      <td>Faulty Product</td>\n",
       "      <td>Router was working fine until i started facing...</td>\n",
       "    </tr>\n",
       "    <tr>\n",
       "      <th>...</th>\n",
       "      <td>...</td>\n",
       "      <td>...</td>\n",
       "      <td>...</td>\n",
       "    </tr>\n",
       "    <tr>\n",
       "      <th>37394</th>\n",
       "      <td>4</td>\n",
       "      <td>Some things are good and some depends on your ...</td>\n",
       "      <td>Fingerprint reader is decent , batery life is ...</td>\n",
       "    </tr>\n",
       "    <tr>\n",
       "      <th>37395</th>\n",
       "      <td>4</td>\n",
       "      <td>Real camera review</td>\n",
       "      <td>Everything is OK but camera quality is not lik...</td>\n",
       "    </tr>\n",
       "    <tr>\n",
       "      <th>37396</th>\n",
       "      <td>4</td>\n",
       "      <td>A power packed smartphone with value for money</td>\n",
       "      <td>Everything is perfect. But the only thing that...</td>\n",
       "    </tr>\n",
       "    <tr>\n",
       "      <th>37397</th>\n",
       "      <td>4</td>\n",
       "      <td>Good but , bad build quality</td>\n",
       "      <td>Camera is nice,Battery back up is good , displ...</td>\n",
       "    </tr>\n",
       "    <tr>\n",
       "      <th>37398</th>\n",
       "      <td>4</td>\n",
       "      <td>Paisa wasool se thoda jyada</td>\n",
       "      <td>Very good phone in low budget .\\nCamera Qualti...</td>\n",
       "    </tr>\n",
       "  </tbody>\n",
       "</table>\n",
       "<p>37399 rows × 3 columns</p>\n",
       "</div>"
      ],
      "text/plain": [
       "       Rating                                             Review  \\\n",
       "0           1                             Received a used router   \n",
       "1           1  DON'T Go for It... in case you don't want to r...   \n",
       "2           1                              Don't buy this router   \n",
       "3           1  Cloudtail providing fake reburbished products ...   \n",
       "4           1                                     Faulty Product   \n",
       "...       ...                                                ...   \n",
       "37394       4  Some things are good and some depends on your ...   \n",
       "37395       4                                 Real camera review   \n",
       "37396       4     A power packed smartphone with value for money   \n",
       "37397       4                       Good but , bad build quality   \n",
       "37398       4                        Paisa wasool se thoda jyada   \n",
       "\n",
       "                                             Long_Review  \n",
       "0      Package was half sealed by Amazon and on the t...  \n",
       "1      This is a followup of my earlier review\\n\\nCur...  \n",
       "2      It can't even cover 500squarefeet Area :/\\n\\nI...  \n",
       "3      The product has stopped working only after 6 m...  \n",
       "4      Router was working fine until i started facing...  \n",
       "...                                                  ...  \n",
       "37394  Fingerprint reader is decent , batery life is ...  \n",
       "37395  Everything is OK but camera quality is not lik...  \n",
       "37396  Everything is perfect. But the only thing that...  \n",
       "37397  Camera is nice,Battery back up is good , displ...  \n",
       "37398  Very good phone in low budget .\\nCamera Qualti...  \n",
       "\n",
       "[37399 rows x 3 columns]"
      ]
     },
     "execution_count": 23,
     "metadata": {},
     "output_type": "execute_result"
    }
   ],
   "source": [
    "RP_webscraping=pd.concat((RP_scrap1,RP_scrap2),ignore_index=True)\n",
    "RP_webscraping"
   ]
  },
  {
   "cell_type": "code",
   "execution_count": 24,
   "id": "c0b0c249",
   "metadata": {},
   "outputs": [],
   "source": [
    "df = pd.DataFrame(RP_webscraping)\n",
    "df.to_csv('RP_webscrap.csv', index=False)"
   ]
  },
  {
   "cell_type": "code",
   "execution_count": null,
   "id": "89816ca7",
   "metadata": {},
   "outputs": [],
   "source": []
  },
  {
   "cell_type": "code",
   "execution_count": null,
   "id": "bc7bbea0",
   "metadata": {},
   "outputs": [],
   "source": []
  },
  {
   "cell_type": "markdown",
   "id": "89b9a9df",
   "metadata": {},
   "source": [
    "# DATA SCRAPING SUCCESSFUL"
   ]
  }
 ],
 "metadata": {
  "kernelspec": {
   "display_name": "Python 3",
   "language": "python",
   "name": "python3"
  },
  "language_info": {
   "codemirror_mode": {
    "name": "ipython",
    "version": 3
   },
   "file_extension": ".py",
   "mimetype": "text/x-python",
   "name": "python",
   "nbconvert_exporter": "python",
   "pygments_lexer": "ipython3",
   "version": "3.8.8"
  }
 },
 "nbformat": 4,
 "nbformat_minor": 5
}
